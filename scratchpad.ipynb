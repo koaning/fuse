{
 "cells": [
  {
   "cell_type": "code",
   "execution_count": 1,
   "id": "4bb651d9-6cb7-4389-84d3-0158b8b22a27",
   "metadata": {},
   "outputs": [],
   "source": [
    "import pathlib\n",
    "import pandas as pd\n",
    "\n",
    "from torchtext.data.utils import get_tokenizer\n",
    "from datasets import load_dataset, DatasetDict"
   ]
  },
  {
   "cell_type": "code",
   "execution_count": 2,
   "id": "a9044a12-9252-40e5-9646-7d86d7f2fa9c",
   "metadata": {},
   "outputs": [
    {
     "data": {
      "text/plain": [
       "[47, 57, 264, 290, 539, 499, 723, 606]"
      ]
     },
     "execution_count": 2,
     "metadata": {},
     "output_type": "execute_result"
    }
   ],
   "source": [
    "class Tokenizer:\n",
    "    def __init__(self, hash_size, n_hashes):\n",
    "        self.hash_size = hash_size \n",
    "        self.n_hashes = n_hashes\n",
    "        self.splitter = get_tokenizer('basic_english')\n",
    "        self.vocab_size = hash_size * n_hashes\n",
    "    \n",
    "    def __call__(self, text):\n",
    "        integers = []\n",
    "        words = self.splitter(text)\n",
    "        for h in range(self.n_hashes):\n",
    "            integers += [hash(w + 'a'*h) % self.hash_size + h*self.hash_size for w in words]\n",
    "        return integers\n",
    "    \n",
    "tok = Tokenizer(hash_size=200, n_hashes=4)\n",
    "tok(\"hello there\")"
   ]
  },
  {
   "cell_type": "code",
   "execution_count": 3,
   "id": "55ccff44-fc2e-43cf-a693-2470bfb085a3",
   "metadata": {},
   "outputs": [],
   "source": [
    "from torch.utils.data import DataLoader, Dataset\n",
    "\n",
    "class TextDataset(Dataset):\n",
    "    def __init__(self, name='silicone', subset='dyda_da', split='train'):\n",
    "        self.dataset = load_dataset(name, subset)\n",
    "        if isinstance(self.dataset, DatasetDict):\n",
    "            self.dataset = self.dataset[split]\n",
    "        self.labels = list(set(i['Label'] for i in self.dataset))\n",
    "        self.name = f\"{name}-{subset}-{split}\"\n",
    "\n",
    "    def __len__(self):\n",
    "        return len(self.dataset)\n",
    "\n",
    "    def __getitem__(self, idx):\n",
    "        item = self.dataset[idx]\n",
    "        return tok(item['Utterance']), item['Label']"
   ]
  },
  {
   "cell_type": "code",
   "execution_count": 4,
   "id": "57d06466-d51f-4694-a851-3b5766f1e498",
   "metadata": {},
   "outputs": [],
   "source": [
    "import torch \n",
    "from torch.utils.data import DataLoader, Dataset\n",
    "\n",
    "torch.set_num_threads(6)\n",
    "device = torch.device(\"cuda\" if torch.cuda.is_available() else \"cpu\")\n",
    "\n",
    "def collate_batch(batch):\n",
    "    label_list, text_list, offset_list = [], [], [0]\n",
    "    for _text, _label in batch:\n",
    "        label_list.append(_label)\n",
    "        processed_text = torch.tensor(_text, dtype=torch.int64)\n",
    "        text_list.append(processed_text)\n",
    "        offset_list.append(processed_text.size(0))\n",
    "    label_list = torch.tensor(label_list, dtype=torch.int64)\n",
    "    text_list = torch.cat(text_list)\n",
    "    offset_list = torch.tensor(offset_list[:-1]).cumsum(dim=0)\n",
    "    return label_list.to(device), text_list.to(device), offset_list.to(device)"
   ]
  },
  {
   "cell_type": "code",
   "execution_count": 65,
   "id": "773bf62b-78b7-43c3-8245-e538b58af12a",
   "metadata": {
    "tags": []
   },
   "outputs": [],
   "source": [
    "from torch import nn\n",
    "\n",
    "class TextEmbedder(nn.Module):\n",
    "    def __init__(self, vocab_size, embed_dim):\n",
    "        super(TextEmbedder, self).__init__()\n",
    "        self.embedding = nn.EmbeddingBag(vocab_size, embed_dim, sparse=True)\n",
    "        self.embed_dim = embed_dim\n",
    "        self.fc1 = nn.Linear(embed_dim, embed_dim)\n",
    "        self.relu1 = nn.Tanh()\n",
    "        self.fc2 = nn.Linear(embed_dim, embed_dim)\n",
    "        self.relu2 = nn.Tanh()\n",
    "        self.init_weights()\n",
    "\n",
    "    def init_weights(self):\n",
    "        initrange = 0.20\n",
    "        self.embedding.weight.data.uniform_(-initrange, initrange)\n",
    "        self.fc1.weight.data.uniform_(-initrange, initrange)\n",
    "        self.fc1.bias.data.zero_()\n",
    "        self.fc2.weight.data.uniform_(-initrange, initrange)\n",
    "        self.fc2.bias.data.zero_()\n",
    "\n",
    "    def forward(self, text, offsets):\n",
    "        embedded = self.embedding(text, offsets)\n",
    "        return self.relu2(self.fc2(self.relu1(self.fc1(embedded))))\n",
    "\n",
    "class TextClassifier(nn.Module):\n",
    "    def __init__(self, embedder, n_classes):\n",
    "        super(TextClassifier, self).__init__()\n",
    "        self.emb = embedder\n",
    "        self.fc = nn.Linear(embedder.embed_dim, n_classes)\n",
    "        self.act = nn.LogSoftmax()\n",
    "        self.init_weights()\n",
    "\n",
    "    def init_weights(self):\n",
    "        initrange = 0.02\n",
    "        self.fc.weight.data.uniform_(-initrange, initrange)\n",
    "        self.fc.bias.data.zero_()\n",
    "\n",
    "    def forward(self, text, offsets):\n",
    "        embedded = self.emb(text, offsets)\n",
    "        return self.act(self.fc(embedded))"
   ]
  },
  {
   "cell_type": "code",
   "execution_count": 66,
   "id": "4eb677b0-f9b6-4479-99ab-ec204d4a40b3",
   "metadata": {},
   "outputs": [
    {
     "name": "stderr",
     "output_type": "stream",
     "text": [
      "Reusing dataset silicone (/home/vincent/.cache/huggingface/datasets/silicone/dyda_da/1.0.0/af617406c94e3f78da85f7ea74ebfbd3f297a9665cb54adbae305b03bc4442a5)\n"
     ]
    }
   ],
   "source": [
    "my_datasets = [\n",
    "    TextDataset('silicone', 'dyda_da'),\n",
    "#     TextDataset('silicone', 'dyda_e'),\n",
    "#     TextDataset('silicone', 'meld_e')\n",
    "]"
   ]
  },
  {
   "cell_type": "code",
   "execution_count": 67,
   "id": "6ec214f1-c3d2-438b-bc06-4e55c2ec4ce5",
   "metadata": {},
   "outputs": [
    {
     "data": {
      "text/plain": [
       "[Dataset({\n",
       "     features: ['Utterance', 'Dialogue_Act', 'Dialogue_ID', 'Label', 'Idx'],\n",
       "     num_rows: 87170\n",
       " })]"
      ]
     },
     "execution_count": 67,
     "metadata": {},
     "output_type": "execute_result"
    }
   ],
   "source": [
    "[d.dataset for d in my_datasets]"
   ]
  },
  {
   "cell_type": "code",
   "execution_count": 68,
   "id": "6bd76029-6dbc-46ed-945b-6f61d7a9351e",
   "metadata": {},
   "outputs": [],
   "source": [
    "models = []\n",
    "\n",
    "embedding_model = TextEmbedder(vocab_size=tok.vocab_size, embed_dim=256)\n",
    "\n",
    "for dataset in my_datasets:\n",
    "    loader = DataLoader(dataset, batch_size=8192, shuffle=True, collate_fn=collate_batch)\n",
    "    clf = TextClassifier(embedder=embedding_model, n_classes=len(dataset.labels))\n",
    "    opt = torch.optim.SGD(clf.parameters(), lr=0.01)\n",
    "    models.append({\n",
    "        'dataset': dataset, 'loader': loader, 'clf': clf, 'optimizer': opt, 'name': dataset.name\n",
    "    })"
   ]
  },
  {
   "cell_type": "code",
   "execution_count": 69,
   "id": "b859335a-f696-4cc7-9827-70571b93896f",
   "metadata": {},
   "outputs": [
    {
     "data": {
      "text/plain": [
       "{'silicone-dyda_da-train': [0, 1, 2, 3]}"
      ]
     },
     "execution_count": 69,
     "metadata": {},
     "output_type": "execute_result"
    }
   ],
   "source": [
    "{model['name']: model['dataset'].labels for model in models}"
   ]
  },
  {
   "cell_type": "code",
   "execution_count": 70,
   "id": "c0cfe676-a7f5-4849-b7d5-f305e5c65ad8",
   "metadata": {},
   "outputs": [],
   "source": [
    "# len([i for i in models[0]['loader']])"
   ]
  },
  {
   "cell_type": "code",
   "execution_count": 72,
   "id": "5cf58d7e-8f06-4fd4-86f6-b26afdec54b7",
   "metadata": {},
   "outputs": [
    {
     "name": "stderr",
     "output_type": "stream",
     "text": [
      "/home/vincent/Development/fuse/venv/lib/python3.7/site-packages/ipykernel_launcher.py:41: UserWarning: Implicit dimension choice for log_softmax has been deprecated. Change the call to include dim=X as an argument.\n"
     ]
    },
    {
     "name": "stdout",
     "output_type": "stream",
     "text": [
      "tensor([[-1.4163, -1.3874, -1.3551, -1.3873],\n",
      "        [-1.4046, -1.4013, -1.3671, -1.3727],\n",
      "        [-1.3989, -1.4115, -1.3588, -1.3768],\n",
      "        ...,\n",
      "        [-1.4008, -1.3987, -1.3706, -1.3755],\n",
      "        [-1.4209, -1.4311, -1.3497, -1.3465],\n",
      "        [-1.3963, -1.3881, -1.3657, -1.3953]], grad_fn=<LogSoftmaxBackward>)\n"
     ]
    },
    {
     "data": {
      "text/html": [
       "<pre style=\"white-space:pre;overflow-x:auto;line-height:normal;font-family:Menlo,'DejaVu Sans Mono',consolas,'Courier New',monospace\"><span style=\"color: #7fbfbf; text-decoration-color: #7fbfbf\">[22:17:17] </span><span style=\"font-weight: bold\">{</span><span style=\"color: #008000; text-decoration-color: #008000\">'silicone-dyda_da-train'</span>: <span style=\"color: #008080; text-decoration-color: #008080; font-weight: bold\">0.5519330044740163</span><span style=\"font-weight: bold\">}</span>                     <a href=\"file:///tmp/ipykernel_290398/179963738.py\"><span style=\"color: #7f7f7f; text-decoration-color: #7f7f7f\">179963738.py</span></a><span style=\"color: #7f7f7f; text-decoration-color: #7f7f7f\">:33</span>\n",
       "</pre>\n"
      ],
      "text/plain": [
       "\u001b[2;36m[22:17:17]\u001b[0m\u001b[2;36m \u001b[0m\u001b[1m{\u001b[0m\u001b[32m'silicone-dyda_da-train'\u001b[0m: \u001b[1;36m0.5519330044740163\u001b[0m\u001b[1m}\u001b[0m                     \u001b]8;id=155137;file:///tmp/ipykernel_290398/179963738.py\u001b\\\u001b[2m179963738.py\u001b[0m\u001b]8;;\u001b\\\u001b[2m:33\u001b[0m\n"
      ]
     },
     "metadata": {},
     "output_type": "display_data"
    },
    {
     "name": "stdout",
     "output_type": "stream",
     "text": [
      "tensor([[-1.4074, -1.4054, -1.3461, -1.3876],\n",
      "        [-1.4236, -1.3967, -1.3524, -1.3739],\n",
      "        [-1.3947, -1.4025, -1.3657, -1.3827],\n",
      "        ...,\n",
      "        [-1.4106, -1.4171, -1.3445, -1.3746],\n",
      "        [-1.4126, -1.4118, -1.3488, -1.3734],\n",
      "        [-1.4092, -1.3945, -1.3657, -1.3763]], grad_fn=<LogSoftmaxBackward>)\n"
     ]
    },
    {
     "data": {
      "text/html": [
       "<pre style=\"white-space:pre;overflow-x:auto;line-height:normal;font-family:Menlo,'DejaVu Sans Mono',consolas,'Courier New',monospace\"><span style=\"color: #7fbfbf; text-decoration-color: #7fbfbf\">[22:17:39] </span><span style=\"font-weight: bold\">{</span><span style=\"color: #008000; text-decoration-color: #008000\">'silicone-dyda_da-train'</span>: <span style=\"color: #008080; text-decoration-color: #008080; font-weight: bold\">0.5542388436388666</span><span style=\"font-weight: bold\">}</span>                     <a href=\"file:///tmp/ipykernel_290398/179963738.py\"><span style=\"color: #7f7f7f; text-decoration-color: #7f7f7f\">179963738.py</span></a><span style=\"color: #7f7f7f; text-decoration-color: #7f7f7f\">:33</span>\n",
       "</pre>\n"
      ],
      "text/plain": [
       "\u001b[2;36m[22:17:39]\u001b[0m\u001b[2;36m \u001b[0m\u001b[1m{\u001b[0m\u001b[32m'silicone-dyda_da-train'\u001b[0m: \u001b[1;36m0.5542388436388666\u001b[0m\u001b[1m}\u001b[0m                     \u001b]8;id=537050;file:///tmp/ipykernel_290398/179963738.py\u001b\\\u001b[2m179963738.py\u001b[0m\u001b]8;;\u001b\\\u001b[2m:33\u001b[0m\n"
      ]
     },
     "metadata": {},
     "output_type": "display_data"
    },
    {
     "name": "stdout",
     "output_type": "stream",
     "text": [
      "tensor([[-1.4016, -1.4186, -1.3320, -1.3953],\n",
      "        [-1.4076, -1.4024, -1.3473, -1.3890],\n",
      "        [-1.4131, -1.4076, -1.3425, -1.3837],\n",
      "        ...,\n",
      "        [-1.4113, -1.3974, -1.3543, -1.3830],\n",
      "        [-1.4049, -1.4146, -1.3386, -1.3889],\n",
      "        [-1.4267, -1.4014, -1.3610, -1.3577]], grad_fn=<LogSoftmaxBackward>)\n"
     ]
    },
    {
     "data": {
      "text/html": [
       "<pre style=\"white-space:pre;overflow-x:auto;line-height:normal;font-family:Menlo,'DejaVu Sans Mono',consolas,'Courier New',monospace\"><span style=\"color: #7fbfbf; text-decoration-color: #7fbfbf\">[22:18:02] </span><span style=\"font-weight: bold\">{</span><span style=\"color: #008000; text-decoration-color: #008000\">'silicone-dyda_da-train'</span>: <span style=\"color: #008080; text-decoration-color: #008080; font-weight: bold\">0.5419180910863829</span><span style=\"font-weight: bold\">}</span>                     <a href=\"file:///tmp/ipykernel_290398/179963738.py\"><span style=\"color: #7f7f7f; text-decoration-color: #7f7f7f\">179963738.py</span></a><span style=\"color: #7f7f7f; text-decoration-color: #7f7f7f\">:33</span>\n",
       "</pre>\n"
      ],
      "text/plain": [
       "\u001b[2;36m[22:18:02]\u001b[0m\u001b[2;36m \u001b[0m\u001b[1m{\u001b[0m\u001b[32m'silicone-dyda_da-train'\u001b[0m: \u001b[1;36m0.5419180910863829\u001b[0m\u001b[1m}\u001b[0m                     \u001b]8;id=567912;file:///tmp/ipykernel_290398/179963738.py\u001b\\\u001b[2m179963738.py\u001b[0m\u001b]8;;\u001b\\\u001b[2m:33\u001b[0m\n"
      ]
     },
     "metadata": {},
     "output_type": "display_data"
    },
    {
     "name": "stdout",
     "output_type": "stream",
     "text": [
      "tensor([[-1.4204, -1.4165, -1.3302, -1.3808],\n",
      "        [-1.4228, -1.4003, -1.3458, -1.3779],\n",
      "        [-1.3987, -1.4123, -1.3389, -1.3969],\n",
      "        ...,\n",
      "        [-1.4195, -1.4002, -1.3442, -1.3829],\n",
      "        [-1.4278, -1.4055, -1.3402, -1.3738],\n",
      "        [-1.4132, -1.4512, -1.3018, -1.3852]], grad_fn=<LogSoftmaxBackward>)\n"
     ]
    },
    {
     "data": {
      "text/html": [
       "<pre style=\"white-space:pre;overflow-x:auto;line-height:normal;font-family:Menlo,'DejaVu Sans Mono',consolas,'Courier New',monospace\"><span style=\"color: #7fbfbf; text-decoration-color: #7fbfbf\">[22:18:25] </span><span style=\"font-weight: bold\">{</span><span style=\"color: #008000; text-decoration-color: #008000\">'silicone-dyda_da-train'</span>: <span style=\"color: #008080; text-decoration-color: #008080; font-weight: bold\">0.5298038315934381</span><span style=\"font-weight: bold\">}</span>                     <a href=\"file:///tmp/ipykernel_290398/179963738.py\"><span style=\"color: #7f7f7f; text-decoration-color: #7f7f7f\">179963738.py</span></a><span style=\"color: #7f7f7f; text-decoration-color: #7f7f7f\">:33</span>\n",
       "</pre>\n"
      ],
      "text/plain": [
       "\u001b[2;36m[22:18:25]\u001b[0m\u001b[2;36m \u001b[0m\u001b[1m{\u001b[0m\u001b[32m'silicone-dyda_da-train'\u001b[0m: \u001b[1;36m0.5298038315934381\u001b[0m\u001b[1m}\u001b[0m                     \u001b]8;id=498612;file:///tmp/ipykernel_290398/179963738.py\u001b\\\u001b[2m179963738.py\u001b[0m\u001b]8;;\u001b\\\u001b[2m:33\u001b[0m\n"
      ]
     },
     "metadata": {},
     "output_type": "display_data"
    },
    {
     "name": "stdout",
     "output_type": "stream",
     "text": [
      "tensor([[-1.4277, -1.4056, -1.3417, -1.3722],\n",
      "        [-1.4316, -1.4487, -1.3032, -1.3683],\n",
      "        [-1.4438, -1.4042, -1.3463, -1.3539],\n",
      "        ...,\n",
      "        [-1.4084, -1.4087, -1.3439, -1.3856],\n",
      "        [-1.4259, -1.4111, -1.3329, -1.3779],\n",
      "        [-1.4225, -1.4168, -1.3259, -1.3830]], grad_fn=<LogSoftmaxBackward>)\n"
     ]
    },
    {
     "data": {
      "text/html": [
       "<pre style=\"white-space:pre;overflow-x:auto;line-height:normal;font-family:Menlo,'DejaVu Sans Mono',consolas,'Courier New',monospace\"><span style=\"color: #7fbfbf; text-decoration-color: #7fbfbf\">[22:18:47] </span><span style=\"font-weight: bold\">{</span><span style=\"color: #008000; text-decoration-color: #008000\">'silicone-dyda_da-train'</span>: <span style=\"color: #008080; text-decoration-color: #008080; font-weight: bold\">0.5183434667890329</span><span style=\"font-weight: bold\">}</span>                     <a href=\"file:///tmp/ipykernel_290398/179963738.py\"><span style=\"color: #7f7f7f; text-decoration-color: #7f7f7f\">179963738.py</span></a><span style=\"color: #7f7f7f; text-decoration-color: #7f7f7f\">:33</span>\n",
       "</pre>\n"
      ],
      "text/plain": [
       "\u001b[2;36m[22:18:47]\u001b[0m\u001b[2;36m \u001b[0m\u001b[1m{\u001b[0m\u001b[32m'silicone-dyda_da-train'\u001b[0m: \u001b[1;36m0.5183434667890329\u001b[0m\u001b[1m}\u001b[0m                     \u001b]8;id=404416;file:///tmp/ipykernel_290398/179963738.py\u001b\\\u001b[2m179963738.py\u001b[0m\u001b]8;;\u001b\\\u001b[2m:33\u001b[0m\n"
      ]
     },
     "metadata": {},
     "output_type": "display_data"
    },
    {
     "name": "stdout",
     "output_type": "stream",
     "text": [
      "tensor([[-1.4386, -1.4070, -1.3146, -1.3892],\n",
      "        [-1.4297, -1.4429, -1.3046, -1.3741],\n",
      "        [-1.4442, -1.4090, -1.3195, -1.3768],\n",
      "        ...,\n",
      "        [-1.4420, -1.4282, -1.3168, -1.3633],\n",
      "        [-1.4436, -1.4445, -1.2808, -1.3853],\n",
      "        [-1.4348, -1.4296, -1.3235, -1.3616]], grad_fn=<LogSoftmaxBackward>)\n"
     ]
    },
    {
     "data": {
      "text/html": [
       "<pre style=\"white-space:pre;overflow-x:auto;line-height:normal;font-family:Menlo,'DejaVu Sans Mono',consolas,'Courier New',monospace\"><span style=\"color: #7fbfbf; text-decoration-color: #7fbfbf\">[22:19:10] </span><span style=\"font-weight: bold\">{</span><span style=\"color: #008000; text-decoration-color: #008000\">'silicone-dyda_da-train'</span>: <span style=\"color: #008080; text-decoration-color: #008080; font-weight: bold\">0.5091086382929907</span><span style=\"font-weight: bold\">}</span>                     <a href=\"file:///tmp/ipykernel_290398/179963738.py\"><span style=\"color: #7f7f7f; text-decoration-color: #7f7f7f\">179963738.py</span></a><span style=\"color: #7f7f7f; text-decoration-color: #7f7f7f\">:33</span>\n",
       "</pre>\n"
      ],
      "text/plain": [
       "\u001b[2;36m[22:19:10]\u001b[0m\u001b[2;36m \u001b[0m\u001b[1m{\u001b[0m\u001b[32m'silicone-dyda_da-train'\u001b[0m: \u001b[1;36m0.5091086382929907\u001b[0m\u001b[1m}\u001b[0m                     \u001b]8;id=862561;file:///tmp/ipykernel_290398/179963738.py\u001b\\\u001b[2m179963738.py\u001b[0m\u001b]8;;\u001b\\\u001b[2m:33\u001b[0m\n"
      ]
     },
     "metadata": {},
     "output_type": "display_data"
    },
    {
     "name": "stdout",
     "output_type": "stream",
     "text": [
      "tensor([[-1.4627, -1.4332, -1.3053, -1.3518],\n",
      "        [-1.4470, -1.4103, -1.3165, -1.3760],\n",
      "        [-1.4351, -1.4121, -1.3298, -1.3715],\n",
      "        ...,\n",
      "        [-1.4374, -1.4340, -1.2883, -1.3929],\n",
      "        [-1.4610, -1.4194, -1.3243, -1.3465],\n",
      "        [-1.4394, -1.4325, -1.3069, -1.3722]], grad_fn=<LogSoftmaxBackward>)\n"
     ]
    },
    {
     "data": {
      "text/html": [
       "<pre style=\"white-space:pre;overflow-x:auto;line-height:normal;font-family:Menlo,'DejaVu Sans Mono',consolas,'Courier New',monospace\"><span style=\"color: #7fbfbf; text-decoration-color: #7fbfbf\">[22:19:33] </span><span style=\"font-weight: bold\">{</span><span style=\"color: #008000; text-decoration-color: #008000\">'silicone-dyda_da-train'</span>: <span style=\"color: #008080; text-decoration-color: #008080; font-weight: bold\">0.5007227257083859</span><span style=\"font-weight: bold\">}</span>                     <a href=\"file:///tmp/ipykernel_290398/179963738.py\"><span style=\"color: #7f7f7f; text-decoration-color: #7f7f7f\">179963738.py</span></a><span style=\"color: #7f7f7f; text-decoration-color: #7f7f7f\">:33</span>\n",
       "</pre>\n"
      ],
      "text/plain": [
       "\u001b[2;36m[22:19:33]\u001b[0m\u001b[2;36m \u001b[0m\u001b[1m{\u001b[0m\u001b[32m'silicone-dyda_da-train'\u001b[0m: \u001b[1;36m0.5007227257083859\u001b[0m\u001b[1m}\u001b[0m                     \u001b]8;id=690520;file:///tmp/ipykernel_290398/179963738.py\u001b\\\u001b[2m179963738.py\u001b[0m\u001b]8;;\u001b\\\u001b[2m:33\u001b[0m\n"
      ]
     },
     "metadata": {},
     "output_type": "display_data"
    },
    {
     "name": "stdout",
     "output_type": "stream",
     "text": [
      "tensor([[-1.4502, -1.4182, -1.3148, -1.3673],\n",
      "        [-1.4377, -1.4193, -1.3364, -1.3554],\n",
      "        [-1.4296, -1.4386, -1.2923, -1.3914],\n",
      "        ...,\n",
      "        [-1.4424, -1.4219, -1.3377, -1.3473],\n",
      "        [-1.4406, -1.4256, -1.3164, -1.3675],\n",
      "        [-1.4536, -1.4238, -1.3401, -1.3331]], grad_fn=<LogSoftmaxBackward>)\n"
     ]
    },
    {
     "ename": "KeyboardInterrupt",
     "evalue": "",
     "output_type": "error",
     "traceback": [
      "\u001b[0;31m---------------------------------------------------------------------------\u001b[0m",
      "\u001b[0;31mKeyboardInterrupt\u001b[0m                         Traceback (most recent call last)",
      "\u001b[0;32m/tmp/ipykernel_290398/179963738.py\u001b[0m in \u001b[0;36m<module>\u001b[0;34m\u001b[0m\n\u001b[1;32m     31\u001b[0m         \u001b[0mprint\u001b[0m\u001b[0;34m(\u001b[0m\u001b[0mpred\u001b[0m\u001b[0;34m)\u001b[0m\u001b[0;34m\u001b[0m\u001b[0;34m\u001b[0m\u001b[0m\n\u001b[1;32m     32\u001b[0m \u001b[0;34m\u001b[0m\u001b[0m\n\u001b[0;32m---> 33\u001b[0;31m     \u001b[0mconsole\u001b[0m\u001b[0;34m.\u001b[0m\u001b[0mlog\u001b[0m\u001b[0;34m(\u001b[0m\u001b[0;34m{\u001b[0m\u001b[0mmodel\u001b[0m\u001b[0;34m[\u001b[0m\u001b[0;34m\"name\"\u001b[0m\u001b[0;34m]\u001b[0m\u001b[0;34m:\u001b[0m \u001b[0mevaluate\u001b[0m\u001b[0;34m(\u001b[0m\u001b[0mmodel\u001b[0m\u001b[0;34m)\u001b[0m \u001b[0;32mfor\u001b[0m \u001b[0mmodel\u001b[0m \u001b[0;32min\u001b[0m \u001b[0mmodels\u001b[0m\u001b[0;34m}\u001b[0m\u001b[0;34m)\u001b[0m\u001b[0;34m\u001b[0m\u001b[0;34m\u001b[0m\u001b[0m\n\u001b[0m",
      "\u001b[0;32m/tmp/ipykernel_290398/179963738.py\u001b[0m in \u001b[0;36m<dictcomp>\u001b[0;34m(.0)\u001b[0m\n\u001b[1;32m     31\u001b[0m         \u001b[0mprint\u001b[0m\u001b[0;34m(\u001b[0m\u001b[0mpred\u001b[0m\u001b[0;34m)\u001b[0m\u001b[0;34m\u001b[0m\u001b[0;34m\u001b[0m\u001b[0m\n\u001b[1;32m     32\u001b[0m \u001b[0;34m\u001b[0m\u001b[0m\n\u001b[0;32m---> 33\u001b[0;31m     \u001b[0mconsole\u001b[0m\u001b[0;34m.\u001b[0m\u001b[0mlog\u001b[0m\u001b[0;34m(\u001b[0m\u001b[0;34m{\u001b[0m\u001b[0mmodel\u001b[0m\u001b[0;34m[\u001b[0m\u001b[0;34m\"name\"\u001b[0m\u001b[0;34m]\u001b[0m\u001b[0;34m:\u001b[0m \u001b[0mevaluate\u001b[0m\u001b[0;34m(\u001b[0m\u001b[0mmodel\u001b[0m\u001b[0;34m)\u001b[0m \u001b[0;32mfor\u001b[0m \u001b[0mmodel\u001b[0m \u001b[0;32min\u001b[0m \u001b[0mmodels\u001b[0m\u001b[0;34m}\u001b[0m\u001b[0;34m)\u001b[0m\u001b[0;34m\u001b[0m\u001b[0;34m\u001b[0m\u001b[0m\n\u001b[0m",
      "\u001b[0;32m/tmp/ipykernel_290398/179963738.py\u001b[0m in \u001b[0;36mevaluate\u001b[0;34m(model)\u001b[0m\n\u001b[1;32m     12\u001b[0m     \u001b[0mtotal_acc\u001b[0m\u001b[0;34m,\u001b[0m \u001b[0mtotal_count\u001b[0m \u001b[0;34m=\u001b[0m \u001b[0;36m0\u001b[0m\u001b[0;34m,\u001b[0m \u001b[0;36m0\u001b[0m\u001b[0;34m\u001b[0m\u001b[0;34m\u001b[0m\u001b[0m\n\u001b[1;32m     13\u001b[0m     \u001b[0;32mwith\u001b[0m \u001b[0mtorch\u001b[0m\u001b[0;34m.\u001b[0m\u001b[0mno_grad\u001b[0m\u001b[0;34m(\u001b[0m\u001b[0;34m)\u001b[0m\u001b[0;34m:\u001b[0m\u001b[0;34m\u001b[0m\u001b[0;34m\u001b[0m\u001b[0m\n\u001b[0;32m---> 14\u001b[0;31m         \u001b[0;32mfor\u001b[0m \u001b[0midx\u001b[0m\u001b[0;34m,\u001b[0m \u001b[0;34m(\u001b[0m\u001b[0mlabel\u001b[0m\u001b[0;34m,\u001b[0m \u001b[0mtext\u001b[0m\u001b[0;34m,\u001b[0m \u001b[0moffsets\u001b[0m\u001b[0;34m)\u001b[0m \u001b[0;32min\u001b[0m \u001b[0menumerate\u001b[0m\u001b[0;34m(\u001b[0m\u001b[0mmodel\u001b[0m\u001b[0;34m[\u001b[0m\u001b[0;34m'loader'\u001b[0m\u001b[0;34m]\u001b[0m\u001b[0;34m)\u001b[0m\u001b[0;34m:\u001b[0m\u001b[0;34m\u001b[0m\u001b[0;34m\u001b[0m\u001b[0m\n\u001b[0m\u001b[1;32m     15\u001b[0m             \u001b[0mpred\u001b[0m \u001b[0;34m=\u001b[0m \u001b[0mmodel\u001b[0m\u001b[0;34m[\u001b[0m\u001b[0;34m'clf'\u001b[0m\u001b[0;34m]\u001b[0m\u001b[0;34m(\u001b[0m\u001b[0mtext\u001b[0m\u001b[0;34m,\u001b[0m \u001b[0moffsets\u001b[0m\u001b[0;34m)\u001b[0m\u001b[0;34m\u001b[0m\u001b[0;34m\u001b[0m\u001b[0m\n\u001b[1;32m     16\u001b[0m             \u001b[0mtotal_acc\u001b[0m \u001b[0;34m+=\u001b[0m \u001b[0;34m(\u001b[0m\u001b[0mpred\u001b[0m\u001b[0;34m.\u001b[0m\u001b[0margmax\u001b[0m\u001b[0;34m(\u001b[0m\u001b[0;36m1\u001b[0m\u001b[0;34m)\u001b[0m \u001b[0;34m==\u001b[0m \u001b[0mlabel\u001b[0m\u001b[0;34m)\u001b[0m\u001b[0;34m.\u001b[0m\u001b[0msum\u001b[0m\u001b[0;34m(\u001b[0m\u001b[0;34m)\u001b[0m\u001b[0;34m.\u001b[0m\u001b[0mitem\u001b[0m\u001b[0;34m(\u001b[0m\u001b[0;34m)\u001b[0m\u001b[0;34m\u001b[0m\u001b[0;34m\u001b[0m\u001b[0m\n",
      "\u001b[0;32m~/Development/fuse/venv/lib/python3.7/site-packages/torch/utils/data/dataloader.py\u001b[0m in \u001b[0;36m__next__\u001b[0;34m(self)\u001b[0m\n\u001b[1;32m    519\u001b[0m             \u001b[0;32mif\u001b[0m \u001b[0mself\u001b[0m\u001b[0;34m.\u001b[0m\u001b[0m_sampler_iter\u001b[0m \u001b[0;32mis\u001b[0m \u001b[0;32mNone\u001b[0m\u001b[0;34m:\u001b[0m\u001b[0;34m\u001b[0m\u001b[0;34m\u001b[0m\u001b[0m\n\u001b[1;32m    520\u001b[0m                 \u001b[0mself\u001b[0m\u001b[0;34m.\u001b[0m\u001b[0m_reset\u001b[0m\u001b[0;34m(\u001b[0m\u001b[0;34m)\u001b[0m\u001b[0;34m\u001b[0m\u001b[0;34m\u001b[0m\u001b[0m\n\u001b[0;32m--> 521\u001b[0;31m             \u001b[0mdata\u001b[0m \u001b[0;34m=\u001b[0m \u001b[0mself\u001b[0m\u001b[0;34m.\u001b[0m\u001b[0m_next_data\u001b[0m\u001b[0;34m(\u001b[0m\u001b[0;34m)\u001b[0m\u001b[0;34m\u001b[0m\u001b[0;34m\u001b[0m\u001b[0m\n\u001b[0m\u001b[1;32m    522\u001b[0m             \u001b[0mself\u001b[0m\u001b[0;34m.\u001b[0m\u001b[0m_num_yielded\u001b[0m \u001b[0;34m+=\u001b[0m \u001b[0;36m1\u001b[0m\u001b[0;34m\u001b[0m\u001b[0;34m\u001b[0m\u001b[0m\n\u001b[1;32m    523\u001b[0m             \u001b[0;32mif\u001b[0m \u001b[0mself\u001b[0m\u001b[0;34m.\u001b[0m\u001b[0m_dataset_kind\u001b[0m \u001b[0;34m==\u001b[0m \u001b[0m_DatasetKind\u001b[0m\u001b[0;34m.\u001b[0m\u001b[0mIterable\u001b[0m \u001b[0;32mand\u001b[0m\u001b[0;31m \u001b[0m\u001b[0;31m\\\u001b[0m\u001b[0;34m\u001b[0m\u001b[0;34m\u001b[0m\u001b[0m\n",
      "\u001b[0;32m~/Development/fuse/venv/lib/python3.7/site-packages/torch/utils/data/dataloader.py\u001b[0m in \u001b[0;36m_next_data\u001b[0;34m(self)\u001b[0m\n\u001b[1;32m    559\u001b[0m     \u001b[0;32mdef\u001b[0m \u001b[0m_next_data\u001b[0m\u001b[0;34m(\u001b[0m\u001b[0mself\u001b[0m\u001b[0;34m)\u001b[0m\u001b[0;34m:\u001b[0m\u001b[0;34m\u001b[0m\u001b[0;34m\u001b[0m\u001b[0m\n\u001b[1;32m    560\u001b[0m         \u001b[0mindex\u001b[0m \u001b[0;34m=\u001b[0m \u001b[0mself\u001b[0m\u001b[0;34m.\u001b[0m\u001b[0m_next_index\u001b[0m\u001b[0;34m(\u001b[0m\u001b[0;34m)\u001b[0m  \u001b[0;31m# may raise StopIteration\u001b[0m\u001b[0;34m\u001b[0m\u001b[0;34m\u001b[0m\u001b[0m\n\u001b[0;32m--> 561\u001b[0;31m         \u001b[0mdata\u001b[0m \u001b[0;34m=\u001b[0m \u001b[0mself\u001b[0m\u001b[0;34m.\u001b[0m\u001b[0m_dataset_fetcher\u001b[0m\u001b[0;34m.\u001b[0m\u001b[0mfetch\u001b[0m\u001b[0;34m(\u001b[0m\u001b[0mindex\u001b[0m\u001b[0;34m)\u001b[0m  \u001b[0;31m# may raise StopIteration\u001b[0m\u001b[0;34m\u001b[0m\u001b[0;34m\u001b[0m\u001b[0m\n\u001b[0m\u001b[1;32m    562\u001b[0m         \u001b[0;32mif\u001b[0m \u001b[0mself\u001b[0m\u001b[0;34m.\u001b[0m\u001b[0m_pin_memory\u001b[0m\u001b[0;34m:\u001b[0m\u001b[0;34m\u001b[0m\u001b[0;34m\u001b[0m\u001b[0m\n\u001b[1;32m    563\u001b[0m             \u001b[0mdata\u001b[0m \u001b[0;34m=\u001b[0m \u001b[0m_utils\u001b[0m\u001b[0;34m.\u001b[0m\u001b[0mpin_memory\u001b[0m\u001b[0;34m.\u001b[0m\u001b[0mpin_memory\u001b[0m\u001b[0;34m(\u001b[0m\u001b[0mdata\u001b[0m\u001b[0;34m)\u001b[0m\u001b[0;34m\u001b[0m\u001b[0;34m\u001b[0m\u001b[0m\n",
      "\u001b[0;32m~/Development/fuse/venv/lib/python3.7/site-packages/torch/utils/data/_utils/fetch.py\u001b[0m in \u001b[0;36mfetch\u001b[0;34m(self, possibly_batched_index)\u001b[0m\n\u001b[1;32m     42\u001b[0m     \u001b[0;32mdef\u001b[0m \u001b[0mfetch\u001b[0m\u001b[0;34m(\u001b[0m\u001b[0mself\u001b[0m\u001b[0;34m,\u001b[0m \u001b[0mpossibly_batched_index\u001b[0m\u001b[0;34m)\u001b[0m\u001b[0;34m:\u001b[0m\u001b[0;34m\u001b[0m\u001b[0;34m\u001b[0m\u001b[0m\n\u001b[1;32m     43\u001b[0m         \u001b[0;32mif\u001b[0m \u001b[0mself\u001b[0m\u001b[0;34m.\u001b[0m\u001b[0mauto_collation\u001b[0m\u001b[0;34m:\u001b[0m\u001b[0;34m\u001b[0m\u001b[0;34m\u001b[0m\u001b[0m\n\u001b[0;32m---> 44\u001b[0;31m             \u001b[0mdata\u001b[0m \u001b[0;34m=\u001b[0m \u001b[0;34m[\u001b[0m\u001b[0mself\u001b[0m\u001b[0;34m.\u001b[0m\u001b[0mdataset\u001b[0m\u001b[0;34m[\u001b[0m\u001b[0midx\u001b[0m\u001b[0;34m]\u001b[0m \u001b[0;32mfor\u001b[0m \u001b[0midx\u001b[0m \u001b[0;32min\u001b[0m \u001b[0mpossibly_batched_index\u001b[0m\u001b[0;34m]\u001b[0m\u001b[0;34m\u001b[0m\u001b[0;34m\u001b[0m\u001b[0m\n\u001b[0m\u001b[1;32m     45\u001b[0m         \u001b[0;32melse\u001b[0m\u001b[0;34m:\u001b[0m\u001b[0;34m\u001b[0m\u001b[0;34m\u001b[0m\u001b[0m\n\u001b[1;32m     46\u001b[0m             \u001b[0mdata\u001b[0m \u001b[0;34m=\u001b[0m \u001b[0mself\u001b[0m\u001b[0;34m.\u001b[0m\u001b[0mdataset\u001b[0m\u001b[0;34m[\u001b[0m\u001b[0mpossibly_batched_index\u001b[0m\u001b[0;34m]\u001b[0m\u001b[0;34m\u001b[0m\u001b[0;34m\u001b[0m\u001b[0m\n",
      "\u001b[0;32m~/Development/fuse/venv/lib/python3.7/site-packages/torch/utils/data/_utils/fetch.py\u001b[0m in \u001b[0;36m<listcomp>\u001b[0;34m(.0)\u001b[0m\n\u001b[1;32m     42\u001b[0m     \u001b[0;32mdef\u001b[0m \u001b[0mfetch\u001b[0m\u001b[0;34m(\u001b[0m\u001b[0mself\u001b[0m\u001b[0;34m,\u001b[0m \u001b[0mpossibly_batched_index\u001b[0m\u001b[0;34m)\u001b[0m\u001b[0;34m:\u001b[0m\u001b[0;34m\u001b[0m\u001b[0;34m\u001b[0m\u001b[0m\n\u001b[1;32m     43\u001b[0m         \u001b[0;32mif\u001b[0m \u001b[0mself\u001b[0m\u001b[0;34m.\u001b[0m\u001b[0mauto_collation\u001b[0m\u001b[0;34m:\u001b[0m\u001b[0;34m\u001b[0m\u001b[0;34m\u001b[0m\u001b[0m\n\u001b[0;32m---> 44\u001b[0;31m             \u001b[0mdata\u001b[0m \u001b[0;34m=\u001b[0m \u001b[0;34m[\u001b[0m\u001b[0mself\u001b[0m\u001b[0;34m.\u001b[0m\u001b[0mdataset\u001b[0m\u001b[0;34m[\u001b[0m\u001b[0midx\u001b[0m\u001b[0;34m]\u001b[0m \u001b[0;32mfor\u001b[0m \u001b[0midx\u001b[0m \u001b[0;32min\u001b[0m \u001b[0mpossibly_batched_index\u001b[0m\u001b[0;34m]\u001b[0m\u001b[0;34m\u001b[0m\u001b[0;34m\u001b[0m\u001b[0m\n\u001b[0m\u001b[1;32m     45\u001b[0m         \u001b[0;32melse\u001b[0m\u001b[0;34m:\u001b[0m\u001b[0;34m\u001b[0m\u001b[0;34m\u001b[0m\u001b[0m\n\u001b[1;32m     46\u001b[0m             \u001b[0mdata\u001b[0m \u001b[0;34m=\u001b[0m \u001b[0mself\u001b[0m\u001b[0;34m.\u001b[0m\u001b[0mdataset\u001b[0m\u001b[0;34m[\u001b[0m\u001b[0mpossibly_batched_index\u001b[0m\u001b[0;34m]\u001b[0m\u001b[0;34m\u001b[0m\u001b[0;34m\u001b[0m\u001b[0m\n",
      "\u001b[0;32m/tmp/ipykernel_290398/2576652870.py\u001b[0m in \u001b[0;36m__getitem__\u001b[0;34m(self, idx)\u001b[0m\n\u001b[1;32m     14\u001b[0m     \u001b[0;32mdef\u001b[0m \u001b[0m__getitem__\u001b[0m\u001b[0;34m(\u001b[0m\u001b[0mself\u001b[0m\u001b[0;34m,\u001b[0m \u001b[0midx\u001b[0m\u001b[0;34m)\u001b[0m\u001b[0;34m:\u001b[0m\u001b[0;34m\u001b[0m\u001b[0;34m\u001b[0m\u001b[0m\n\u001b[1;32m     15\u001b[0m         \u001b[0mitem\u001b[0m \u001b[0;34m=\u001b[0m \u001b[0mself\u001b[0m\u001b[0;34m.\u001b[0m\u001b[0mdataset\u001b[0m\u001b[0;34m[\u001b[0m\u001b[0midx\u001b[0m\u001b[0;34m]\u001b[0m\u001b[0;34m\u001b[0m\u001b[0;34m\u001b[0m\u001b[0m\n\u001b[0;32m---> 16\u001b[0;31m         \u001b[0;32mreturn\u001b[0m \u001b[0mtok\u001b[0m\u001b[0;34m(\u001b[0m\u001b[0mitem\u001b[0m\u001b[0;34m[\u001b[0m\u001b[0;34m'Utterance'\u001b[0m\u001b[0;34m]\u001b[0m\u001b[0;34m)\u001b[0m\u001b[0;34m,\u001b[0m \u001b[0mitem\u001b[0m\u001b[0;34m[\u001b[0m\u001b[0;34m'Label'\u001b[0m\u001b[0;34m]\u001b[0m\u001b[0;34m\u001b[0m\u001b[0;34m\u001b[0m\u001b[0m\n\u001b[0m",
      "\u001b[0;32m/tmp/ipykernel_290398/1914561380.py\u001b[0m in \u001b[0;36m__call__\u001b[0;34m(self, text)\u001b[0m\n\u001b[1;32m      8\u001b[0m     \u001b[0;32mdef\u001b[0m \u001b[0m__call__\u001b[0m\u001b[0;34m(\u001b[0m\u001b[0mself\u001b[0m\u001b[0;34m,\u001b[0m \u001b[0mtext\u001b[0m\u001b[0;34m)\u001b[0m\u001b[0;34m:\u001b[0m\u001b[0;34m\u001b[0m\u001b[0;34m\u001b[0m\u001b[0m\n\u001b[1;32m      9\u001b[0m         \u001b[0mintegers\u001b[0m \u001b[0;34m=\u001b[0m \u001b[0;34m[\u001b[0m\u001b[0;34m]\u001b[0m\u001b[0;34m\u001b[0m\u001b[0;34m\u001b[0m\u001b[0m\n\u001b[0;32m---> 10\u001b[0;31m         \u001b[0mwords\u001b[0m \u001b[0;34m=\u001b[0m \u001b[0mself\u001b[0m\u001b[0;34m.\u001b[0m\u001b[0msplitter\u001b[0m\u001b[0;34m(\u001b[0m\u001b[0mtext\u001b[0m\u001b[0;34m)\u001b[0m\u001b[0;34m\u001b[0m\u001b[0;34m\u001b[0m\u001b[0m\n\u001b[0m\u001b[1;32m     11\u001b[0m         \u001b[0;32mfor\u001b[0m \u001b[0mh\u001b[0m \u001b[0;32min\u001b[0m \u001b[0mrange\u001b[0m\u001b[0;34m(\u001b[0m\u001b[0mself\u001b[0m\u001b[0;34m.\u001b[0m\u001b[0mn_hashes\u001b[0m\u001b[0;34m)\u001b[0m\u001b[0;34m:\u001b[0m\u001b[0;34m\u001b[0m\u001b[0;34m\u001b[0m\u001b[0m\n\u001b[1;32m     12\u001b[0m             \u001b[0mintegers\u001b[0m \u001b[0;34m+=\u001b[0m \u001b[0;34m[\u001b[0m\u001b[0mhash\u001b[0m\u001b[0;34m(\u001b[0m\u001b[0mw\u001b[0m \u001b[0;34m+\u001b[0m \u001b[0;34m'a'\u001b[0m\u001b[0;34m*\u001b[0m\u001b[0mh\u001b[0m\u001b[0;34m)\u001b[0m \u001b[0;34m%\u001b[0m \u001b[0mself\u001b[0m\u001b[0;34m.\u001b[0m\u001b[0mhash_size\u001b[0m \u001b[0;34m+\u001b[0m \u001b[0mh\u001b[0m\u001b[0;34m*\u001b[0m\u001b[0mself\u001b[0m\u001b[0;34m.\u001b[0m\u001b[0mhash_size\u001b[0m \u001b[0;32mfor\u001b[0m \u001b[0mw\u001b[0m \u001b[0;32min\u001b[0m \u001b[0mwords\u001b[0m\u001b[0;34m]\u001b[0m\u001b[0;34m\u001b[0m\u001b[0;34m\u001b[0m\u001b[0m\n",
      "\u001b[0;32m~/Development/fuse/venv/lib/python3.7/site-packages/torchtext/data/utils.py\u001b[0m in \u001b[0;36m_basic_english_normalize\u001b[0;34m(line)\u001b[0m\n\u001b[1;32m     66\u001b[0m     \"\"\"\n\u001b[1;32m     67\u001b[0m \u001b[0;34m\u001b[0m\u001b[0m\n\u001b[0;32m---> 68\u001b[0;31m     \u001b[0mline\u001b[0m \u001b[0;34m=\u001b[0m \u001b[0mline\u001b[0m\u001b[0;34m.\u001b[0m\u001b[0mlower\u001b[0m\u001b[0;34m(\u001b[0m\u001b[0;34m)\u001b[0m\u001b[0;34m\u001b[0m\u001b[0;34m\u001b[0m\u001b[0m\n\u001b[0m\u001b[1;32m     69\u001b[0m     \u001b[0;32mfor\u001b[0m \u001b[0mpattern_re\u001b[0m\u001b[0;34m,\u001b[0m \u001b[0mreplaced_str\u001b[0m \u001b[0;32min\u001b[0m \u001b[0m_patterns_dict\u001b[0m\u001b[0;34m:\u001b[0m\u001b[0;34m\u001b[0m\u001b[0;34m\u001b[0m\u001b[0m\n\u001b[1;32m     70\u001b[0m         \u001b[0mline\u001b[0m \u001b[0;34m=\u001b[0m \u001b[0mpattern_re\u001b[0m\u001b[0;34m.\u001b[0m\u001b[0msub\u001b[0m\u001b[0;34m(\u001b[0m\u001b[0mreplaced_str\u001b[0m\u001b[0;34m,\u001b[0m \u001b[0mline\u001b[0m\u001b[0;34m)\u001b[0m\u001b[0;34m\u001b[0m\u001b[0;34m\u001b[0m\u001b[0m\n",
      "\u001b[0;31mKeyboardInterrupt\u001b[0m: "
     ]
    }
   ],
   "source": [
    "import datetime as dt \n",
    "import time \n",
    "import torch \n",
    "import numpy as np\n",
    "from rich.console import Console \n",
    "\n",
    "console = Console()\n",
    "criterion = torch.nn.CrossEntropyLoss()\n",
    "\n",
    "def evaluate(model):\n",
    "    model['clf'].eval()\n",
    "    total_acc, total_count = 0, 0\n",
    "    with torch.no_grad():\n",
    "        for idx, (label, text, offsets) in enumerate(model['loader']):\n",
    "            pred = model['clf'](text, offsets)\n",
    "            total_acc += (pred.argmax(1) == label).sum().item()\n",
    "            total_count += label.size(0)\n",
    "    return total_acc/total_count\n",
    "\n",
    "for epoch in range(50):\n",
    "    for model in models:\n",
    "        # indices = np.random.randint(len(model['loader']), size=5)\n",
    "        for idx, (label, text, offsets) in enumerate(model['loader']):\n",
    "            #if idx in indices:\n",
    "            model['optimizer'].zero_grad()\n",
    "            pred = model['clf'](text, offsets)\n",
    "            loss = criterion(pred, label)\n",
    "            loss.backward()\n",
    "            torch.nn.utils.clip_grad_norm_(model['clf'].parameters(), 0.1)\n",
    "            model['optimizer'].step()\n",
    "        print(pred)\n",
    "    \n",
    "    console.log({model[\"name\"]: evaluate(model) for model in models})"
   ]
  },
  {
   "cell_type": "code",
   "execution_count": null,
   "id": "083c85a6-cb7d-4dda-a9c2-f6fd5e5a6ba1",
   "metadata": {},
   "outputs": [],
   "source": []
  }
 ],
 "metadata": {
  "kernelspec": {
   "display_name": "Python 3 (ipykernel)",
   "language": "python",
   "name": "python3"
  },
  "language_info": {
   "codemirror_mode": {
    "name": "ipython",
    "version": 3
   },
   "file_extension": ".py",
   "mimetype": "text/x-python",
   "name": "python",
   "nbconvert_exporter": "python",
   "pygments_lexer": "ipython3",
   "version": "3.7.9"
  }
 },
 "nbformat": 4,
 "nbformat_minor": 5
}
